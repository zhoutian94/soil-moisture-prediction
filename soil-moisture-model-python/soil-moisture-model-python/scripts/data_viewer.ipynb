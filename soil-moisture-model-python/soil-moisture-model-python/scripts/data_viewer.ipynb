{
 "cells": [
  {
   "cell_type": "code",
   "id": "initial_id",
   "metadata": {
    "collapsed": true,
    "ExecuteTime": {
     "end_time": "2024-10-11T02:59:04.902928Z",
     "start_time": "2024-10-11T02:59:04.891830Z"
    }
   },
   "source": [
    "import netCDF4 as nc\n",
    "import numpy as np\n",
    "# 打开 NetCDF 文件\n",
    "file_path = '../data/raw/Z_NAFP_C_BABJ_20240604000851_P_CLDAS_NRT_ASI_0P0625_DAY-SM000010-2024060100.nc'\n",
    "dataset = nc.Dataset(file_path)"
   ],
   "outputs": [],
   "execution_count": 18
  },
  {
   "metadata": {
    "ExecuteTime": {
     "end_time": "2024-10-11T02:59:04.933710Z",
     "start_time": "2024-10-11T02:59:04.926195Z"
    }
   },
   "cell_type": "code",
   "source": [
    "# 查看文件的基本信息\n",
    "print(\"文件信息:\")\n",
    "print(dataset)\n",
    "\n"
   ],
   "id": "9633d35ab14bca43",
   "outputs": [
    {
     "name": "stdout",
     "output_type": "stream",
     "text": [
      "文件信息:\n",
      "<class 'netCDF4._netCDF4.Dataset'>\n",
      "root group (NETCDF3_CLASSIC data model, file format NETCDF3):\n",
      "    dimensions(sizes): LON(92), LAT(126)\n",
      "    variables(dimensions): float32 LON(LON), float32 LAT(LAT), float32 SOILLIQ(LAT, LON)\n",
      "    groups: \n"
     ]
    }
   ],
   "execution_count": 19
  },
  {
   "metadata": {
    "ExecuteTime": {
     "end_time": "2024-10-11T02:59:05.089912Z",
     "start_time": "2024-10-11T02:59:05.066913Z"
    }
   },
   "cell_type": "code",
   "source": [
    "# 获取土壤含水量、经度和纬度数据\n",
    "soil_moisture = dataset.variables['SOILLIQ'][:]  # 土壤含水量\n",
    "latitudes = dataset.variables['LAT'][:]          # 纬度变量\n",
    "longitudes = dataset.variables['LON'][:]         # 经度变量\n",
    "\n",
    "\n",
    "\n",
    "# 延安的经纬度范围\n",
    "lat_min, lat_max = 35.34, 37.3   # 纬度范围\n",
    "lon_min, lon_max = 108.51, 110.41  # 经度范围\n",
    "\n",
    "# 找到符合经纬度范围的索引\n",
    "lat_indices = np.where((latitudes >= lat_min) & (latitudes <= lat_max))[0]\n",
    "lon_indices = np.where((longitudes >= lon_min) & (longitudes <= lon_max))[0]\n",
    "\n",
    "# 提取指定区域的土壤含水量数据\n",
    "soil_moisture_region = soil_moisture[np.ix_(lat_indices, lon_indices)]\n",
    "# 输出提取的数据\n",
    "# print(soil_moisture_region)\n",
    "\n",
    "soil_moisture_avg = np.mean(soil_moisture_region[np.logical_and(soil_moisture_region > 0, soil_moisture_region < 0.6)])\n",
    "\n",
    "#计算平均值（排除极端值）\n",
    "print('土壤含水量 平均值为：' + str(soil_moisture_avg))\n",
    "#"
   ],
   "id": "7bfea46e69c822a7",
   "outputs": [
    {
     "name": "stdout",
     "output_type": "stream",
     "text": [
      "土壤含水量 平均值为：0.20528885626023816\n"
     ]
    }
   ],
   "execution_count": 20
  },
  {
   "metadata": {
    "ExecuteTime": {
     "end_time": "2024-10-11T02:59:05.185962Z",
     "start_time": "2024-10-11T02:59:05.165956Z"
    }
   },
   "cell_type": "code",
   "source": [
    "# 查看全局属性\n",
    "print(\"\\n全局属性:\")\n",
    "for attr in dataset.ncattrs():\n",
    "    print(f\"{attr}: {getattr(dataset, attr)}\")\n",
    "\n",
    "# 查看维度\n",
    "print(\"\\n维度:\")\n",
    "for dim_name, dim in dataset.dimensions.items():\n",
    "    print(f\"{dim_name}: {dim.size}\")\n",
    "\n",
    "# 查看变量\n",
    "print(\"\\n变量:\")\n",
    "for var_name, var in dataset.variables.items():\n",
    "    print(f\"{var_name}: {var.shape}, {var.dtype}\")\n",
    "    # 查看变量的属性\n",
    "    for attr in var.ncattrs():\n",
    "        print(f\"  {attr}: {getattr(var, attr)}\")\n",
    "\n"
   ],
   "id": "7f167896fc155ffa",
   "outputs": [
    {
     "name": "stdout",
     "output_type": "stream",
     "text": [
      "\n",
      "全局属性:\n",
      "\n",
      "维度:\n",
      "LON: 92\n",
      "LAT: 126\n",
      "\n",
      "变量:\n",
      "LON: (92,), float32\n",
      "  long_name: longitude\n",
      "  units: degrees_east\n",
      "LAT: (126,), float32\n",
      "  units: degrees_north\n",
      "  long_name: latitude\n",
      "SOILLIQ: (126, 92), float32\n",
      "  units: m3 m-3\n",
      "  long_name: liquid volumetric soil moisture\n",
      "  _FillValue: 9.999999616903162e+35\n",
      "  _ChunkSizes: [520 800]\n"
     ]
    }
   ],
   "execution_count": 21
  },
  {
   "metadata": {
    "ExecuteTime": {
     "end_time": "2024-10-11T02:59:05.246896Z",
     "start_time": "2024-10-11T02:59:05.240898Z"
    }
   },
   "cell_type": "code",
   "source": [
    "# 关闭数据集\n",
    "dataset.close()"
   ],
   "id": "bec08e6211f5a8b6",
   "outputs": [],
   "execution_count": 22
  }
 ],
 "metadata": {
  "kernelspec": {
   "display_name": "Python 3",
   "language": "python",
   "name": "python3"
  },
  "language_info": {
   "codemirror_mode": {
    "name": "ipython",
    "version": 2
   },
   "file_extension": ".py",
   "mimetype": "text/x-python",
   "name": "python",
   "nbconvert_exporter": "python",
   "pygments_lexer": "ipython2",
   "version": "2.7.6"
  }
 },
 "nbformat": 4,
 "nbformat_minor": 5
}
