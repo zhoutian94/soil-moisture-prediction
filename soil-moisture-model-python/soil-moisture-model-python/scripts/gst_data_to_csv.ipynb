{
 "cells": [
  {
   "cell_type": "code",
   "id": "initial_id",
   "metadata": {
    "collapsed": true,
    "ExecuteTime": {
     "end_time": "2024-10-15T03:51:05.624472Z",
     "start_time": "2024-10-15T03:51:05.013467Z"
    }
   },
   "source": [
    "import netCDF4 as nc\n",
    "import numpy as np\n",
    "import pandas as pd\n",
    "import os\n",
    "import re\n",
    "\n",
    "# 定义文件路径和日期范围\n",
    "file_dir = '../data/raw/'\n",
    "file_patterns = {\n",
    "    'gst': r'Z_NAFP_C_BABJ_\\d+_P_CLDAS_NRT_ASI_0P0625_DAY-GST-(\\d{8})\\d{2}.nc',\n",
    "}\n",
    "district_name = '延安'\n",
    "lat_min, lat_max = 35.34, 37.3   # 纬度范围\n",
    "lon_min, lon_max = 108.51, 110.41  # 经度范围\n",
    "\n",
    "# 初始化一个空的 DataFrame 用于汇总平均值\n",
    "summary_df = pd.DataFrame(columns=['id', 'district_name', 'date', 'file_suffix', 'type', 'value'])\n",
    "\n",
    "for file_suffix, pattern in file_patterns.items():\n",
    "    # 初始化一个空的 DataFrame\n",
    "    df = pd.DataFrame(columns=['id', 'district_name', 'date', 'type', 'value'])\n",
    "\n",
    "    # 遍历文件夹中的所有 NetCDF 文件\n",
    "    for file_name in os.listdir(file_dir):\n",
    "        match = re.search(pattern, file_name)\n",
    "        if match:\n",
    "            date_str = match.group(1)\n",
    "            date = f\"{date_str[:4]}-{date_str[4:6]}-{date_str[6:8]}\"\n",
    "            file_path = os.path.join(file_dir, file_name)\n",
    "\n",
    "            # 打开 NetCDF 文件\n",
    "            dataset = nc.Dataset(file_path)\n",
    "\n",
    "            # 获取地表平均温度、经度和纬度数据\n",
    "            ground_temperature_avg_day_sum = dataset.variables['TG_DAY_AVG'][:]\n",
    "            latitudes = dataset.variables['LAT'][:]          # 纬度变量\n",
    "            longitudes = dataset.variables['LON'][:]         # 经度变量\n",
    "\n",
    "            # 找到符合经纬度范围的索引\n",
    "            lat_indices = np.where((latitudes >= lat_min) & (latitudes <= lat_max))[0]\n",
    "            lon_indices = np.where((longitudes >= lon_min) & (longitudes <= lon_max))[0]\n",
    "\n",
    "            # 提取指定区域的数据\n",
    "            ground_temperature_avg_day_sum_region = ground_temperature_avg_day_sum[np.ix_(lat_indices, lon_indices)]\n",
    "\n",
    "            # 计算平均值（排除极端值），一般地表温度在 200 K（-73°C）到 350 K（77°C） 之间是合理的范围。\n",
    "            # k 开尔文温度，绝对温度\n",
    "            ground_temperature_day_avg = np.mean(ground_temperature_avg_day_sum_region[np.logical_and(ground_temperature_avg_day_sum_region >= 200, ground_temperature_avg_day_sum_region < 350)])\n",
    "\n",
    "            # 关闭数据集\n",
    "            dataset.close()\n",
    "\n",
    "            # 创建一个新的 DataFrame 行\n",
    "            new_row = pd.DataFrame({\n",
    "                'id': [len(df) + 1],\n",
    "                'district_name': [district_name],\n",
    "                'date': [date],\n",
    "                'type': ['ground_temperature_day_avg'],\n",
    "                'value': [ground_temperature_day_avg]\n",
    "            })\n",
    "\n",
    "            # 使用 pd.concat 添加新行到 DataFrame\n",
    "            df = pd.concat([df, new_row], ignore_index=True)\n",
    "\n",
    "            # 创建一个新的 DataFrame 行用于汇总\n",
    "            summary_row = pd.DataFrame({\n",
    "                'id': [len(summary_df) + 1],\n",
    "                'district_name': [district_name],\n",
    "                'date': [date],\n",
    "                'file_suffix': [file_suffix],\n",
    "                'type': ['ground_temperature_day_avg'],\n",
    "                'value': [ground_temperature_day_avg]\n",
    "            })\n",
    "\n",
    "            # 使用 pd.concat 添加新行到汇总 DataFrame\n",
    "            summary_df = pd.concat([summary_df, summary_row], ignore_index=True)\n",
    "\n",
    "    # 保存每个深度的 DataFrame 到 CSV 文件\n",
    "    output_dir = '../data/csv/'\n",
    "    os.makedirs(output_dir, exist_ok=True)\n",
    "    df.to_csv(os.path.join(output_dir, f'ground_temperature_day_avg_data.csv'), index=False)"
   ],
   "outputs": [
    {
     "name": "stderr",
     "output_type": "stream",
     "text": [
      "C:\\Users\\zhout\\AppData\\Local\\Temp\\ipykernel_31188\\1841596321.py:63: FutureWarning: The behavior of DataFrame concatenation with empty or all-NA entries is deprecated. In a future version, this will no longer exclude empty or all-NA columns when determining the result dtypes. To retain the old behavior, exclude the relevant entries before the concat operation.\n",
      "  df = pd.concat([df, new_row], ignore_index=True)\n",
      "C:\\Users\\zhout\\AppData\\Local\\Temp\\ipykernel_31188\\1841596321.py:76: FutureWarning: The behavior of DataFrame concatenation with empty or all-NA entries is deprecated. In a future version, this will no longer exclude empty or all-NA columns when determining the result dtypes. To retain the old behavior, exclude the relevant entries before the concat operation.\n",
      "  summary_df = pd.concat([summary_df, summary_row], ignore_index=True)\n"
     ]
    }
   ],
   "execution_count": 2
  }
 ],
 "metadata": {
  "kernelspec": {
   "display_name": "Python 3",
   "language": "python",
   "name": "python3"
  },
  "language_info": {
   "codemirror_mode": {
    "name": "ipython",
    "version": 2
   },
   "file_extension": ".py",
   "mimetype": "text/x-python",
   "name": "python",
   "nbconvert_exporter": "python",
   "pygments_lexer": "ipython2",
   "version": "2.7.6"
  }
 },
 "nbformat": 4,
 "nbformat_minor": 5
}
