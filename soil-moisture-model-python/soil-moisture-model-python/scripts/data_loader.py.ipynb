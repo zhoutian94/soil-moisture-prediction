{
 "cells": [
  {
   "cell_type": "code",
   "id": "initial_id",
   "metadata": {
    "collapsed": true,
    "ExecuteTime": {
     "end_time": "2024-10-10T02:42:10.181592Z",
     "start_time": "2024-10-10T02:42:07.069857Z"
    }
   },
   "source": [
    "import netCDF4 as nc\n",
    "import numpy as np\n",
    "import torch\n",
    "from torch.utils.data import Dataset\n",
    "\n",
    "class SoilMoistureDataset(Dataset):\n",
    "    def __init__(self, nc_file, lat, lon, sequence_length=30):\n",
    "        self.nc_file = nc_file\n",
    "        self.lat = lat\n",
    "        self.lon = lon\n",
    "        self.sequence_length = sequence_length\n",
    "        self.data = self.load_data()\n",
    "\n",
    "    def load_data(self):\n",
    "        dataset = nc.Dataset(self.nc_file)\n",
    "        # 假设数据集中包含 'soil_moisture' 和 'precipitation' 两个变量\n",
    "        soil_moisture = dataset.variables['soil_moisture'][:]\n",
    "        precipitation = dataset.variables['precipitation'][:]\n",
    "        \n",
    "        # 提取指定经纬度的逐日数据\n",
    "        lat_idx = np.abs(dataset.variables['lat'][:] - self.lat).argmin()\n",
    "        lon_idx = np.abs(dataset.variables['lon'][:] - self.lon).argmin()\n",
    "        soil_moisture_data = soil_moisture[:, lat_idx, lon_idx]\n",
    "        precipitation_data = precipitation[:, lat_idx, lon_idx]\n",
    "        \n",
    "        # 可以进行数据清洗和预处理\n",
    "        data = np.stack([soil_moisture_data, precipitation_data], axis=1)\n",
    "        return data\n",
    "\n",
    "    def __len__(self):\n",
    "        return len(self.data) - self.sequence_length\n",
    "\n",
    "    def __getitem__(self, idx):\n",
    "        # 返回输入序列和目标值\n",
    "        x = self.data[idx:idx + self.sequence_length, 1]  # 输入为降水量\n",
    "        y = self.data[idx + self.sequence_length, 0]  # 目标为土壤含水量\n",
    "        return torch.tensor(x, dtype=torch.float32), torch.tensor(y, dtype=torch.float32)\n"
   ],
   "outputs": [],
   "execution_count": 1
  }
 ],
 "metadata": {
  "kernelspec": {
   "display_name": "Python 3",
   "language": "python",
   "name": "python3"
  },
  "language_info": {
   "codemirror_mode": {
    "name": "ipython",
    "version": 2
   },
   "file_extension": ".py",
   "mimetype": "text/x-python",
   "name": "python",
   "nbconvert_exporter": "python",
   "pygments_lexer": "ipython2",
   "version": "2.7.6"
  }
 },
 "nbformat": 4,
 "nbformat_minor": 5
}
