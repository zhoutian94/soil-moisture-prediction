{
 "cells": [
  {
   "cell_type": "code",
   "id": "initial_id",
   "metadata": {
    "collapsed": true,
    "ExecuteTime": {
     "end_time": "2024-10-21T08:47:29.843031Z",
     "start_time": "2024-10-21T08:47:20.672850Z"
    }
   },
   "source": [
    "import pandas as pd\n",
    "\n",
    "# 读取 CSV 文件\n",
    "file_path = '../data/csv/YanAn_delay_data.csv'\n",
    "df = pd.read_csv(file_path)\n",
    "\n",
    "# 解析时间戳并提取日期\n",
    "df['date'] = pd.to_datetime(df['time'], unit='s').dt.date\n",
    "\n",
    "# 排除异常值\n",
    "# 过滤掉 differential_delay 列中小于等于0的值\n",
    "df_filtered = df[df['differential_delay'] > 0]\n",
    "print(df_filtered['differential_delay'].describe())\n",
    "\n",
    "# 使用分位数方法定义合理范围，去除异常值\n",
    "q_low = df_filtered['differential_delay'].quantile(0.2)\n",
    "q_high = df_filtered['differential_delay'].quantile(0.82)\n",
    "\n",
    "# 过滤掉超出合理范围的数据\n",
    "df_filtered_no_outliers = df_filtered[(df_filtered['differential_delay'] >= q_low) & (df_filtered['differential_delay'] <= q_high)]\n",
    "\n",
    "# 按日期计算平均值\n",
    "daily_avg_df = df_filtered_no_outliers.groupby(['station_id', 'station_name', 'date']).agg({'differential_delay': 'mean'}).reset_index()\n",
    "\n",
    "# 列名station_name改为district_name\n",
    "daily_avg_df.rename(columns={'station_name': 'district_name'}, inplace=True)\n",
    "\n",
    "# 保存结果到新的 CSV 文件\n",
    "output_file = '../data/csv/delay_avg_data.csv'\n",
    "daily_avg_df.to_csv(output_file, index=False)"
   ],
   "outputs": [
    {
     "name": "stdout",
     "output_type": "stream",
     "text": [
      "count    9.335983e+06\n",
      "mean     1.507996e+08\n",
      "std      3.504375e+08\n",
      "min      1.480000e-01\n",
      "25%      1.101857e+03\n",
      "50%      1.150636e+03\n",
      "75%      1.318195e+03\n",
      "max      9.998571e+08\n",
      "Name: differential_delay, dtype: float64\n"
     ]
    }
   ],
   "execution_count": 4
  }
 ],
 "metadata": {
  "kernelspec": {
   "display_name": "Python 3",
   "language": "python",
   "name": "python3"
  },
  "language_info": {
   "codemirror_mode": {
    "name": "ipython",
    "version": 2
   },
   "file_extension": ".py",
   "mimetype": "text/x-python",
   "name": "python",
   "nbconvert_exporter": "python",
   "pygments_lexer": "ipython2",
   "version": "2.7.6"
  }
 },
 "nbformat": 4,
 "nbformat_minor": 5
}
