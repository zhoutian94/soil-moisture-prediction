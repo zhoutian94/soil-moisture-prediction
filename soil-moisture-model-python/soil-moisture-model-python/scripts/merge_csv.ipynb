{
 "cells": [
  {
   "cell_type": "code",
   "id": "initial_id",
   "metadata": {
    "collapsed": true,
    "ExecuteTime": {
     "end_time": "2024-10-21T08:49:38.487185Z",
     "start_time": "2024-10-21T08:49:37.898687Z"
    }
   },
   "source": [
    "import pandas as pd\n",
    "import os\n",
    "#将降水量、地表温度、土壤含水量数据合并到一个 CSV 文件中\n",
    "\n",
    "# 定义文件路径\n",
    "file_dir = '../data/csv/'\n",
    "\n",
    "# 读取各个 CSV 文件\n",
    "precipitation_df = pd.read_csv(os.path.join(file_dir, 'precipitation_day_avg_data.csv'))\n",
    "ground_temp_df = pd.read_csv(os.path.join(file_dir, 'ground_temperature_day_avg_data.csv'))\n",
    "soil_moisture_df = pd.read_csv(os.path.join(file_dir, 'soil_moisture_day_avg_data.csv'))\n",
    "delay_avg_df = pd.read_csv(os.path.join(file_dir, 'delay_avg_data.csv'))\n",
    "\n",
    "# 重命名列以便合并\n",
    "precipitation_df = precipitation_df.rename(columns={'value': 'pre'})\n",
    "ground_temp_df = ground_temp_df.rename(columns={'value': 'gts'})\n",
    "soil_moisture_df = soil_moisture_df.rename(columns={'value': 'sm'})\n",
    "\n",
    "# 选择需要的列\n",
    "precipitation_df = precipitation_df[['district_name', 'date', 'pre']]\n",
    "ground_temp_df = ground_temp_df[['district_name', 'date', 'gts']]\n",
    "soil_moisture_df = soil_moisture_df[['district_name', 'date', 'sm']]\n",
    "delay_avg_df = delay_avg_df[['district_name', 'date', 'differential_delay']]\n",
    "\n",
    "# 合并数据\n",
    "merged_df = pd.merge(precipitation_df, ground_temp_df, on=['district_name', 'date'], how='outer')\n",
    "merged_df = pd.merge(merged_df, soil_moisture_df, on=['district_name', 'date'], how='outer')\n",
    "merged_df = pd.merge(merged_df, delay_avg_df, on=['district_name', 'date'], how='outer')\n",
    "\n",
    "# 保存到一个新的 CSV 文件\n",
    "output_file = os.path.join(file_dir, 'merged_data.csv')\n",
    "merged_df.to_csv(output_file, index=False)"
   ],
   "outputs": [],
   "execution_count": 1
  }
 ],
 "metadata": {
  "kernelspec": {
   "display_name": "Python 3",
   "language": "python",
   "name": "python3"
  },
  "language_info": {
   "codemirror_mode": {
    "name": "ipython",
    "version": 2
   },
   "file_extension": ".py",
   "mimetype": "text/x-python",
   "name": "python",
   "nbconvert_exporter": "python",
   "pygments_lexer": "ipython2",
   "version": "2.7.6"
  }
 },
 "nbformat": 4,
 "nbformat_minor": 5
}
