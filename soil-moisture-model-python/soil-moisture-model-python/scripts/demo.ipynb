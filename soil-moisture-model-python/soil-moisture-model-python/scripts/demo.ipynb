{
 "cells": [
  {
   "cell_type": "code",
   "id": "initial_id",
   "metadata": {
    "collapsed": true,
    "ExecuteTime": {
     "end_time": "2024-12-04T05:10:45.630307Z",
     "start_time": "2024-12-04T05:10:43.116285Z"
    }
   },
   "source": [
    "import pandas as pd\n",
    "import numpy as np\n",
    "import joblib\n",
    "from sklearn.preprocessing import MinMaxScaler\n",
    "\n",
    "# 加载数据\n",
    "data = pd.read_csv('../data/csv/merged_data.csv')\n",
    "\n",
    "# 选择数值型列\n",
    "numeric_cols = data[['pre', 'gts', 'sm', 'differential_delay']].select_dtypes(include=[np.number])\n",
    "\n",
    "# 处理缺失值（使用均值替换）\n",
    "numeric_cols.fillna(numeric_cols.mean(), inplace=True)\n",
    "\n",
    "# 查看数据\n",
    "# print(numeric_cols.head())\n",
    "\n",
    "# 归一化处理\n",
    "scaler = MinMaxScaler()\n",
    "#对数据据进行拟合和转换，实现归一化\n",
    "scaled_data = scaler.fit_transform(numeric_cols)\n",
    "\n",
    "# 保存标准化器\n",
    "joblib.dump(scaler, 'scaler.pkl')\n",
    "print(scaled_data[:5])"
   ],
   "outputs": [
    {
     "name": "stdout",
     "output_type": "stream",
     "text": [
      "[[5.86721832e-02 4.60483773e-01 2.59316362e-01 2.99344545e-01]\n",
      " [2.60045707e-02 2.29390066e-01 3.18279520e-01 2.99344545e-01]\n",
      " [1.38886255e-04 4.36504800e-01 2.98743754e-01 2.99344545e-01]\n",
      " [1.50190909e-02 2.05155018e-01 3.02951677e-01 7.13748357e-01]\n",
      " [4.92102581e-04 4.97914022e-01 2.90120334e-01 8.42335370e-01]]\n"
     ]
    }
   ],
   "execution_count": 1
  },
  {
   "metadata": {
    "ExecuteTime": {
     "end_time": "2024-12-04T05:10:45.755279Z",
     "start_time": "2024-12-04T05:10:45.733283Z"
    }
   },
   "cell_type": "code",
   "source": [
    "#创建时间序列数据\n",
    "def create_dataset(data, time_step=1):\n",
    "    X, y = [], []\n",
    "    for i in range(len(data) - time_step):\n",
    "        X.append(data[i:(i + time_step), :])  # 过去 `time_step` 天\n",
    "        y.append(data[i + time_step, 2])  # 土壤含水量是第三列\n",
    "    return np.array(X), np.array(y)\n",
    "\n",
    "# 设定时间步长\n",
    "time_step = 7  # 使用过去7天的数据预测未来1天\n",
    "X, y = create_dataset(scaled_data, time_step)\n",
    "print(X.shape, y.shape)\n"
   ],
   "id": "28cf4910eec87e89",
   "outputs": [
    {
     "name": "stdout",
     "output_type": "stream",
     "text": [
      "(128, 7, 4) (128,)\n"
     ]
    }
   ],
   "execution_count": 2
  },
  {
   "metadata": {
    "ExecuteTime": {
     "end_time": "2024-12-04T05:10:49.105504Z",
     "start_time": "2024-12-04T05:10:45.773284Z"
    }
   },
   "cell_type": "code",
   "source": [
    "#拆分训练集和测试集\n",
    "train_size = int(len(X) * 0.8) # 80%的数据作为训练集\n",
    "X_train, X_test = X[:train_size], X[train_size:] # 划分训练集和测试集的特征数据\n",
    "y_train, y_test = y[:train_size], y[train_size:] # 划分训练集和测试集的目标数据\n",
    "\n",
    "# 找到重叠的样本\n",
    "overlap = []\n",
    "for x in X_train:\n",
    "    if any(np.array_equal(x, y) for y in X_test):\n",
    "        overlap.append(x)\n",
    "        \n",
    "print(\"特征训练集和测试集是否有重叠:\", len(overlap) > 0)\n",
    "for y in y_train:\n",
    "    if any(np.array_equal(y, t) for t in y_test):\n",
    "        overlap.append(y)\n",
    "\n",
    "print(\"目标训练集和测试集是否有重叠:\", len(overlap) > 0)\n",
    "print(\"重叠的样本数量:\", len(overlap))\n",
    "\n",
    "# 将NumPy数组转换为PyTorch张量\n",
    "import torch\n",
    "\n",
    "# 将NumPy数组转换为PyTorch浮点张量，以便后续训练\n",
    "X_train_tensor = torch.FloatTensor(X_train)\n",
    "# 调整张量形状（-1表示自动计算该维度的大小；1表示第二维度的大小为1，也就使得每个样本在第二维度上有一个特征元素）\n",
    "#  比如y_train原来是（n，）一维数组，调整后的张量形状为（n，1），即二维张量（矩阵），它包含 n 行和 1 列\n",
    "# 例如：[3,5,7] -> [[3.],[5.],[7.]]\n",
    "y_train_tensor = torch.FloatTensor(y_train).view(-1, 1)\n",
    "X_test_tensor = torch.FloatTensor(X_test)\n",
    "y_test_tensor = torch.FloatTensor(y_test).view(-1, 1)\n"
   ],
   "id": "e9085603f13a2449",
   "outputs": [
    {
     "name": "stdout",
     "output_type": "stream",
     "text": [
      "特征训练集和测试集是否有重叠: False\n",
      "目标训练集和测试集是否有重叠: False\n",
      "重叠的样本数量: 0\n"
     ]
    }
   ],
   "execution_count": 3
  },
  {
   "metadata": {
    "ExecuteTime": {
     "end_time": "2024-12-04T05:10:50.105096Z",
     "start_time": "2024-12-04T05:10:50.075091Z"
    }
   },
   "cell_type": "code",
   "source": [
    "# 构建模型\n",
    "import torch.nn as nn\n",
    "from model import LSTMModel  # 导入LSTMModel类\n",
    "\n",
    " # 获取输入特征数（X_train数组的第三维度大小）\n",
    "input_size = X_train.shape[2] \n",
    "# 隐藏层单元数\n",
    "hidden_size = 5\n",
    "# 可构建堆叠的LSTM层数\n",
    "num_layers = 1\n",
    "\n",
    "# 实例化模型\n",
    "model = LSTMModel(input_size, hidden_size, num_layers)\n"
   ],
   "id": "71d8bed87001b62c",
   "outputs": [],
   "execution_count": 4
  },
  {
   "metadata": {
    "ExecuteTime": {
     "end_time": "2024-12-04T05:10:52.550418Z",
     "start_time": "2024-12-04T05:10:50.153093Z"
    }
   },
   "cell_type": "code",
   "source": [
    "#训练模型\n",
    "\n",
    "# 定义损失函数（量化误差）和优化器（寻找最小误差的算法），以便在训练中最小化损失函数\n",
    "criterion = nn.MSELoss() # 均方误差损失函数\n",
    "optimizer = torch.optim.Adam(model.parameters(), lr=0.1) # Adam优化器，学习率为0.001\n",
    "\n",
    "# 训练模型\n",
    "num_epochs = 100 # 训练的迭代次数（模型会在整个训练集上训练100次）\n",
    "losses = []  # 用于保存每个epoch的损失值\n",
    "for epoch in range(num_epochs):\n",
    "    # 启动训练模式\n",
    "    model.train()\n",
    "    # 清空梯度，防止上一轮迭代的梯度影响本轮更新。PyTorch会自动累积梯度，所以在每轮训练开始前都需要清空。\n",
    "    optimizer.zero_grad()\n",
    "    #将训练数据传入模型，得到预测输出outputs\n",
    "    outputs = model(X_train_tensor)\n",
    "    # 计算损失，即预测值和真实值的误差\n",
    "    loss = criterion(outputs, y_train_tensor)\n",
    "    # 通过反向传播计算梯度\n",
    "    loss.backward()\n",
    "    # 通过优化器更新模型参数(根据前一步计算的梯度，优化器会按指定规则调整模型的权重参数。)\n",
    "    optimizer.step()\n",
    "    \n",
    "    losses.append(loss.item())  # 保存当前epoch的损失值\n",
    "    \n",
    "    if (epoch + 1) % 10 == 0:\n",
    "        # 每10个epoch打印一次当前的迭代次数和损失值\n",
    "        print(f'Epoch [{epoch + 1}/{num_epochs}], Loss: {loss.item():.4f}')\n",
    "\n",
    "import matplotlib.pyplot as plt\n",
    "\n",
    "# 可视化损失值随训练轮次的变化趋势\n",
    "plt.plot(range(num_epochs), losses, label='Training Loss')\n",
    "plt.xlabel('Epoch')\n",
    "plt.ylabel('Loss')\n",
    "plt.title('Training Loss over Epochs')\n",
    "plt.legend()\n",
    "plt.show()\n"
   ],
   "id": "f83d92b43e55072a",
   "outputs": [
    {
     "name": "stdout",
     "output_type": "stream",
     "text": [
      "Epoch [10/100], Loss: 0.0782\n",
      "Epoch [20/100], Loss: 0.0385\n",
      "Epoch [30/100], Loss: 0.0084\n",
      "Epoch [40/100], Loss: 0.0064\n",
      "Epoch [50/100], Loss: 0.0058\n",
      "Epoch [60/100], Loss: 0.0044\n",
      "Epoch [70/100], Loss: 0.0040\n",
      "Epoch [80/100], Loss: 0.0037\n",
      "Epoch [90/100], Loss: 0.0036\n",
      "Epoch [100/100], Loss: 0.0035\n"
     ]
    },
    {
     "data": {
      "text/plain": [
       "<Figure size 640x480 with 1 Axes>"
      ],
      "image/png": "[encoded data removed]"
     },
     "metadata": {},
     "output_type": "display_data"
    }
   ],
   "execution_count": 5
  },
  {
   "metadata": {
    "ExecuteTime": {
     "end_time": "2024-12-04T05:10:52.768417Z",
     "start_time": "2024-12-04T05:10:52.597417Z"
    }
   },
   "cell_type": "code",
   "source": [
    "#开启评估模型\n",
    "model.eval()\n",
    "# 关闭梯度计算，节省内存和加速计算，确保模型参数不会更新。\n",
    "with torch.no_grad():\n",
    "    # 使用测试数据集进行预测，得到预测结果\n",
    "    y_pred_tensor = model(X_test_tensor)\n",
    "\n",
    "\n",
    "\n",
    "# 反归一化（从归一化状态反归一化，还原到原始数据的尺度，便于观察）\n",
    "y_pred = scaler.inverse_transform(np.concatenate((np.zeros((y_pred_tensor.shape[0], 2)), y_pred_tensor.numpy(), np.zeros((y_pred_tensor.shape[0], 1))), axis=1))[:, 2]\n",
    "y_test = scaler.inverse_transform(np.concatenate((np.zeros((y_test_tensor.shape[0], 2)), y_test_tensor.numpy(), np.zeros((y_test_tensor.shape[0], 1))), axis=1))[:, 2]\n",
    "\n",
    "\n",
    "print(\"预测值:\", y_pred[:5]) \n",
    "print(\"真实值:\", y_test[:5]) \n",
    "\n",
    "\n",
    "# 计算评估指标（如RMSE-Root Mean Squared Error，均方根误差），一种常用的回归模型评估指标，用于衡量预测值与实际值之间的差异\n",
    "from sklearn.metrics import mean_squared_error\n",
    "rmse = np.sqrt(mean_squared_error(y_test, y_pred))\n",
    "print(f'RMSE: {rmse}')"
   ],
   "id": "b9e1ae2761645dcc",
   "outputs": [
    {
     "name": "stdout",
     "output_type": "stream",
     "text": [
      "预测值: [0.26136637 0.25981694 0.25612574 0.25347977 0.2496306 ]\n",
      "真实值: [0.25885383 0.25635232 0.25355909 0.25013108 0.24905412]\n",
      "RMSE: 0.011981033059458841\n"
     ]
    }
   ],
   "execution_count": 6
  },
  {
   "metadata": {
    "ExecuteTime": {
     "end_time": "2024-12-04T05:10:52.830418Z",
     "start_time": "2024-12-04T05:10:52.816419Z"
    }
   },
   "cell_type": "code",
   "source": [
    "#保存模型\n",
    "torch.save(model.state_dict(), 'sm-model.pth')"
   ],
   "id": "6326220f1192928b",
   "outputs": [],
   "execution_count": 7
  },
  {
   "metadata": {
    "ExecuteTime": {
     "end_time": "2024-12-04T05:10:52.943420Z",
     "start_time": "2024-12-04T05:10:52.880418Z"
    }
   },
   "cell_type": "code",
   "source": [
    "#预测未来7天的土壤含水量\n",
    "# 假设有最新7天的数据\n",
    "# 创建DataFrame\n",
    "data = {\n",
    "    'pre': [0.000253414, 0.042466424, 0, 0.013785034, 0, 0.7146022, 0.15852802],\n",
    "    'gts': [293.6274572, 293.7911731, 295.6754032, 296.1911857, 298.0680444, 296.7113155, 289.5321951],\n",
    "    'sm': [0.260608912, 0.258853835, 0.256352317, 0.253559093, 0.250131076, 0.249054117, 0.250471338],\n",
    "    'differential_delay': [1126.980279, 1130.437798, 1140.982769, 1149.878125, 1154.166115, 1156.282277, 1124.194953]\n",
    "}\n",
    "\n",
    "latest_data = pd.DataFrame(data)\n",
    "print(latest_data)\n",
    "latest_data_scaled = scaler.transform(latest_data)\n",
    "\n",
    "# 进行预测\n",
    "predictions = []\n",
    "for _ in range(7):  # 预测未来x天\n",
    "    latest_tensor = torch.FloatTensor(latest_data_scaled).view(1, time_step, -1)\n",
    "    pred = model(latest_tensor)\n",
    "    y_pred_temp = scaler.inverse_transform(np.concatenate((np.zeros((pred.shape[0], 2)), pred.detach().numpy(), np.zeros((pred.shape[0], 1))), axis=1))[:, 2]\n",
    "    predictions.append(y_pred_temp.item())\n",
    "    \n",
    "    # 更新latest_data，添加新预测值\n",
    "    new_row = np.array([pred.item(), 0, 0, 0])  # 用0填充其他列\n",
    "    latest_data_scaled = np.append(latest_data_scaled[1:], [new_row], axis=0)  # 更新输入数据\n",
    "\n",
    "print(\"未来7天的土壤含水量预测:\", predictions)\n"
   ],
   "id": "70dc00bbe34510c3",
   "outputs": [
    {
     "name": "stdout",
     "output_type": "stream",
     "text": [
      "        pre         gts        sm  differential_delay\n",
      "0  0.000253  293.627457  0.260609         1126.980279\n",
      "1  0.042466  293.791173  0.258854         1130.437798\n",
      "2  0.000000  295.675403  0.256352         1140.982769\n",
      "3  0.013785  296.191186  0.253559         1149.878125\n",
      "4  0.000000  298.068044  0.250131         1154.166115\n",
      "5  0.714602  296.711316  0.249054         1156.282277\n",
      "6  0.158528  289.532195  0.250471         1124.194953\n",
      "未来7天的土壤含水量预测: [0.25592176601188193, 0.23969597841739299, 0.21646097390719188, 0.19911879492878926, 0.18580814246133157, 0.17526476088654042, 0.16697334526652854]\n"
     ]
    }
   ],
   "execution_count": 8
  },
  {
   "metadata": {
    "ExecuteTime": {
     "end_time": "2024-12-04T05:10:53.127447Z",
     "start_time": "2024-12-04T05:10:53.005418Z"
    }
   },
   "cell_type": "code",
   "source": [
    "\n",
    "# 可视化\n",
    "plt.plot(y_test, label='实际土壤含水量')\n",
    "plt.plot(y_pred, label='预测土壤含水量')\n",
    "plt.legend()\n",
    "plt.show()\n"
   ],
   "id": "40f6dc4a2fc5179f",
   "outputs": [
    {
     "data": {
      "text/plain": [
       "<Figure size 640x480 with 1 Axes>"
      ],
      "image/png": "[encoded data removed]"
     },
     "metadata": {},
     "output_type": "display_data"
    }
   ],
   "execution_count": 9
  }
 ],
 "metadata": {
  "kernelspec": {
   "display_name": "Python 3",
   "language": "python",
   "name": "python3"
  },
  "language_info": {
   "codemirror_mode": {
    "name": "ipython",
    "version": 2
   },
   "file_extension": ".py",
   "mimetype": "text/x-python",
   "name": "python",
   "nbconvert_exporter": "python",
   "pygments_lexer": "ipython2",
   "version": "2.7.6"
  }
 },
 "nbformat": 4,
 "nbformat_minor": 5
}
